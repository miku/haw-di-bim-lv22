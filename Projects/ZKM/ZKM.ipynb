{
 "cells": [
  {
   "cell_type": "code",
   "execution_count": 1,
   "id": "272a7364",
   "metadata": {},
   "outputs": [],
   "source": [
    "import json\n",
    "import pandas as pd"
   ]
  },
  {
   "cell_type": "markdown",
   "id": "2628248b",
   "metadata": {},
   "source": [
    "# ZKM data from Coding da Vinci BW 2022\n",
    "\n",
    "Basic exploration of the dataset.\n",
    "\n",
    "* Loading a JSON file\n",
    "* Which columns exists?\n",
    "* Selecting data\n",
    "* Grouping data\n",
    "* Plotting data\n"
   ]
  },
  {
   "cell_type": "code",
   "execution_count": 2,
   "id": "f521eaca",
   "metadata": {},
   "outputs": [],
   "source": [
    "with open(\"export.json\") as f:\n",
    "    data = json.load(f)"
   ]
  },
  {
   "cell_type": "code",
   "execution_count": 3,
   "id": "9bba0830",
   "metadata": {},
   "outputs": [
    {
     "data": {
      "text/plain": [
       "dict_keys(['data', 'metadata'])"
      ]
     },
     "execution_count": 3,
     "metadata": {},
     "output_type": "execute_result"
    }
   ],
   "source": [
    "data.keys()"
   ]
  },
  {
   "cell_type": "code",
   "execution_count": 4,
   "id": "a7e0bb9f",
   "metadata": {},
   "outputs": [
    {
     "data": {
      "text/plain": [
       "dict_keys(['bibliothek_ausleihe_ausgang-eingang', 'aufzug_summe-hoehenmeter-positiv', 'aufzug_fahrten', 'publikationen_woerter_lektoriert', 'austellung_biomedia-co2', 'austellung_biomedia-hum', 'austellung_biomedia-pm25', 'austellung_biomedia-pm10', 'austellung_biomedia-press', 'austellung_biomedia-temp', 'austellung_biomedia-crawler_comments', 'austellung_biomedia-crawler_involved_profiles', 'austellung_biomedia-crawler_post_images', 'austellung_biomedia-crawler_posts', 'austellung_biomedia-crawler_reactions', 'austellung_biomedia-cwa_devs', 'austellung_biomedia-cwa_rssi', 'wissen_archiv_akte', 'wissen_archiv_objekte', 'wissen_lavs_digitalisierung', 'webseite_veranstaltungen', 'besucherzahlen'])"
      ]
     },
     "execution_count": 4,
     "metadata": {},
     "output_type": "execute_result"
    }
   ],
   "source": [
    "data[\"data\"].keys()"
   ]
  },
  {
   "cell_type": "code",
   "execution_count": 5,
   "id": "59287e15",
   "metadata": {},
   "outputs": [
    {
     "data": {
      "text/plain": [
       "[{'date': '2022-03-01T00:00:00',\n",
       "  'uid': 'Ar 0029',\n",
       "  'title': 'Social Media in Archiven : Grundlagen, Einsatzmöglichkeiten, Zielsetzungen / Gisa Spiegel. - 2013',\n",
       "  'incoming': True,\n",
       "  'outgoing': False,\n",
       "  'timestamp': 1646089200},\n",
       " {'date': '2022-03-01T00:00:00',\n",
       "  'uid': 'B Bure50 0017',\n",
       "  'title': \"Buren : exposition du 17 mai au 29 septembre 1991 dossier de press, documents / capcMusée d'art contemporain Entrepôt Bordeaux. - 1991\",\n",
       "  'incoming': True,\n",
       "  'outgoing': False,\n",
       "  'timestamp': 1646089200}]"
      ]
     },
     "execution_count": 5,
     "metadata": {},
     "output_type": "execute_result"
    }
   ],
   "source": [
    "data[\"data\"][\"bibliothek_ausleihe_ausgang-eingang\"][:2]"
   ]
  },
  {
   "cell_type": "code",
   "execution_count": 6,
   "id": "bda24749",
   "metadata": {},
   "outputs": [],
   "source": [
    "df = pd.DataFrame(data[\"data\"][\"bibliothek_ausleihe_ausgang-eingang\"])"
   ]
  },
  {
   "cell_type": "code",
   "execution_count": 7,
   "id": "06f736f2",
   "metadata": {},
   "outputs": [
    {
     "data": {
      "text/html": [
       "<div>\n",
       "<style scoped>\n",
       "    .dataframe tbody tr th:only-of-type {\n",
       "        vertical-align: middle;\n",
       "    }\n",
       "\n",
       "    .dataframe tbody tr th {\n",
       "        vertical-align: top;\n",
       "    }\n",
       "\n",
       "    .dataframe thead th {\n",
       "        text-align: right;\n",
       "    }\n",
       "</style>\n",
       "<table border=\"1\" class=\"dataframe\">\n",
       "  <thead>\n",
       "    <tr style=\"text-align: right;\">\n",
       "      <th></th>\n",
       "      <th>date</th>\n",
       "      <th>uid</th>\n",
       "      <th>title</th>\n",
       "      <th>incoming</th>\n",
       "      <th>outgoing</th>\n",
       "      <th>timestamp</th>\n",
       "    </tr>\n",
       "  </thead>\n",
       "  <tbody>\n",
       "    <tr>\n",
       "      <th>0</th>\n",
       "      <td>2022-03-01T00:00:00</td>\n",
       "      <td>Ar 0029</td>\n",
       "      <td>Social Media in Archiven : Grundlagen, Einsatz...</td>\n",
       "      <td>True</td>\n",
       "      <td>False</td>\n",
       "      <td>1646089200</td>\n",
       "    </tr>\n",
       "    <tr>\n",
       "      <th>1</th>\n",
       "      <td>2022-03-01T00:00:00</td>\n",
       "      <td>B Bure50 0017</td>\n",
       "      <td>Buren : exposition du 17 mai au 29 septembre 1...</td>\n",
       "      <td>True</td>\n",
       "      <td>False</td>\n",
       "      <td>1646089200</td>\n",
       "    </tr>\n",
       "    <tr>\n",
       "      <th>2</th>\n",
       "      <td>2022-03-01T00:00:00</td>\n",
       "      <td>B Duc25 0070</td>\n",
       "      <td>Readymade century / Dieter Daniels ; mit einem...</td>\n",
       "      <td>True</td>\n",
       "      <td>False</td>\n",
       "      <td>1646089200</td>\n",
       "    </tr>\n",
       "    <tr>\n",
       "      <th>3</th>\n",
       "      <td>2022-03-01T00:00:00</td>\n",
       "      <td>B Guen95 0001</td>\n",
       "      <td>Michael Günzburger : Now let it unfold / Galer...</td>\n",
       "      <td>True</td>\n",
       "      <td>False</td>\n",
       "      <td>1646089200</td>\n",
       "    </tr>\n",
       "    <tr>\n",
       "      <th>4</th>\n",
       "      <td>2022-03-01T00:00:00</td>\n",
       "      <td>B Gut70 0001</td>\n",
       "      <td>Joachim Gutsche : Bilder der 1960er Jahre / Te...</td>\n",
       "      <td>True</td>\n",
       "      <td>False</td>\n",
       "      <td>1646089200</td>\n",
       "    </tr>\n",
       "    <tr>\n",
       "      <th>...</th>\n",
       "      <td>...</td>\n",
       "      <td>...</td>\n",
       "      <td>...</td>\n",
       "      <td>...</td>\n",
       "      <td>...</td>\n",
       "      <td>...</td>\n",
       "    </tr>\n",
       "    <tr>\n",
       "      <th>1141</th>\n",
       "      <td>2022-03-31T00:00:00</td>\n",
       "      <td>XSH L 0218</td>\n",
       "      <td>Über Peter Weiss / hrsg. von Volker Canaris. -...</td>\n",
       "      <td>True</td>\n",
       "      <td>False</td>\n",
       "      <td>1648677600</td>\n",
       "    </tr>\n",
       "    <tr>\n",
       "      <th>1142</th>\n",
       "      <td>2022-03-31T00:00:00</td>\n",
       "      <td>ZKM AUS The Beauty of Early Life</td>\n",
       "      <td>Evolutionsbiologie / Volker Storch; Ulrich Wel...</td>\n",
       "      <td>True</td>\n",
       "      <td>False</td>\n",
       "      <td>1648677600</td>\n",
       "    </tr>\n",
       "    <tr>\n",
       "      <th>1143</th>\n",
       "      <td>2022-03-31T00:00:00</td>\n",
       "      <td>ZKM AUS The Beauty of Early Life</td>\n",
       "      <td>¬Das¬  Geheimnis um die erste Zelle : dem Ursp...</td>\n",
       "      <td>True</td>\n",
       "      <td>False</td>\n",
       "      <td>1648677600</td>\n",
       "    </tr>\n",
       "    <tr>\n",
       "      <th>1144</th>\n",
       "      <td>2022-03-31T00:00:00</td>\n",
       "      <td>ZT 004 63.2022,4</td>\n",
       "      <td>Theater heute : die Theaterzeitschrift. - 63 (...</td>\n",
       "      <td>True</td>\n",
       "      <td>False</td>\n",
       "      <td>1648677600</td>\n",
       "    </tr>\n",
       "    <tr>\n",
       "      <th>1145</th>\n",
       "      <td>2022-03-31T00:00:00</td>\n",
       "      <td>ZV 003 2022,5</td>\n",
       "      <td>PC-Welt. - (2022), Heft 5. - 2022</td>\n",
       "      <td>True</td>\n",
       "      <td>False</td>\n",
       "      <td>1648677600</td>\n",
       "    </tr>\n",
       "  </tbody>\n",
       "</table>\n",
       "<p>1146 rows × 6 columns</p>\n",
       "</div>"
      ],
      "text/plain": [
       "                     date                               uid  \\\n",
       "0     2022-03-01T00:00:00                           Ar 0029   \n",
       "1     2022-03-01T00:00:00                     B Bure50 0017   \n",
       "2     2022-03-01T00:00:00                      B Duc25 0070   \n",
       "3     2022-03-01T00:00:00                     B Guen95 0001   \n",
       "4     2022-03-01T00:00:00                     B Gut70 0001    \n",
       "...                   ...                               ...   \n",
       "1141  2022-03-31T00:00:00                        XSH L 0218   \n",
       "1142  2022-03-31T00:00:00  ZKM AUS The Beauty of Early Life   \n",
       "1143  2022-03-31T00:00:00  ZKM AUS The Beauty of Early Life   \n",
       "1144  2022-03-31T00:00:00                  ZT 004 63.2022,4   \n",
       "1145  2022-03-31T00:00:00                     ZV 003 2022,5   \n",
       "\n",
       "                                                  title  incoming  outgoing  \\\n",
       "0     Social Media in Archiven : Grundlagen, Einsatz...      True     False   \n",
       "1     Buren : exposition du 17 mai au 29 septembre 1...      True     False   \n",
       "2     Readymade century / Dieter Daniels ; mit einem...      True     False   \n",
       "3     Michael Günzburger : Now let it unfold / Galer...      True     False   \n",
       "4     Joachim Gutsche : Bilder der 1960er Jahre / Te...      True     False   \n",
       "...                                                 ...       ...       ...   \n",
       "1141  Über Peter Weiss / hrsg. von Volker Canaris. -...      True     False   \n",
       "1142  Evolutionsbiologie / Volker Storch; Ulrich Wel...      True     False   \n",
       "1143  ¬Das¬  Geheimnis um die erste Zelle : dem Ursp...      True     False   \n",
       "1144  Theater heute : die Theaterzeitschrift. - 63 (...      True     False   \n",
       "1145                  PC-Welt. - (2022), Heft 5. - 2022      True     False   \n",
       "\n",
       "       timestamp  \n",
       "0     1646089200  \n",
       "1     1646089200  \n",
       "2     1646089200  \n",
       "3     1646089200  \n",
       "4     1646089200  \n",
       "...          ...  \n",
       "1141  1648677600  \n",
       "1142  1648677600  \n",
       "1143  1648677600  \n",
       "1144  1648677600  \n",
       "1145  1648677600  \n",
       "\n",
       "[1146 rows x 6 columns]"
      ]
     },
     "execution_count": 7,
     "metadata": {},
     "output_type": "execute_result"
    }
   ],
   "source": [
    "df"
   ]
  },
  {
   "cell_type": "code",
   "execution_count": 8,
   "id": "58034bef",
   "metadata": {},
   "outputs": [],
   "source": [
    "df[\"date\"] = pd.to_datetime(df[\"date\"])"
   ]
  },
  {
   "cell_type": "code",
   "execution_count": 9,
   "id": "0f419f4a",
   "metadata": {},
   "outputs": [],
   "source": [
    "inout = df.groupby(\"date\").sum()"
   ]
  },
  {
   "cell_type": "code",
   "execution_count": 10,
   "id": "414b5df5",
   "metadata": {},
   "outputs": [
    {
     "data": {
      "text/plain": [
       "<matplotlib.axes._subplots.AxesSubplot at 0x7fe03d8d72b0>"
      ]
     },
     "execution_count": 10,
     "metadata": {},
     "output_type": "execute_result"
    },
    {
     "data": {
      "image/png": "[encoded data removed]",
      "text/plain": [
       "<Figure size 432x288 with 1 Axes>"
      ]
     },
     "metadata": {
      "needs_background": "light"
     },
     "output_type": "display_data"
    }
   ],
   "source": [
    "inout[[\"incoming\", \"outgoing\"]].plot()"
   ]
  },
  {
   "cell_type": "code",
   "execution_count": null,
   "id": "98f09892",
   "metadata": {},
   "outputs": [],
   "source": []
  }
 ],
 "metadata": {
  "kernelspec": {
   "display_name": "Python 3 (ipykernel)",
   "language": "python",
   "name": "python3"
  },
  "language_info": {
   "codemirror_mode": {
    "name": "ipython",
    "version": 3
   },
   "file_extension": ".py",
   "mimetype": "text/x-python",
   "name": "python",
   "nbconvert_exporter": "python",
   "pygments_lexer": "ipython3",
   "version": "3.8.10"
  }
 },
 "nbformat": 4,
 "nbformat_minor": 5
}
